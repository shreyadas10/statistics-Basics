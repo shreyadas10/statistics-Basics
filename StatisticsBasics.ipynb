{
  "nbformat": 4,
  "nbformat_minor": 0,
  "metadata": {
    "colab": {
      "provenance": []
    },
    "kernelspec": {
      "name": "python3",
      "display_name": "Python 3"
    },
    "language_info": {
      "name": "python"
    }
  },
  "cells": [
    {
      "cell_type": "markdown",
      "source": [
        "1. What is statistics, and why is it important ?\n",
        "\n",
        "->  Statistics is a branch of mathematics that deals with collecting, analyzing, interpreting, and presenting data, serving as a crucial foundation for data science by providing the tools and techniques necessary to extract meaningful insights from large datasets, identify patterns, test hypotheses, and make informed decisions based on data analysis; essentially, statistics allows data scientists to understand and quantify relationships within data to make reliable predictions and inferences."
      ],
      "metadata": {
        "id": "mMngjeFf_Xbz"
      }
    },
    {
      "cell_type": "markdown",
      "source": [
        "2. What are the two main types of statistics ?\n",
        "\n",
        "->  The two main types of statistics are descriptive statistics and inferential statistics.\n",
        "\n",
        "-> Descriptive statistics:\n",
        "\n",
        "  - Summarizes the characteristics of a data set without making inferences about a larger population.\n",
        "\n",
        "-> Inferential statistics:\n",
        "\n",
        "  - Uses data from a sample to draw conclusions and make predictions about a larger population"
      ],
      "metadata": {
        "id": "ANnL1tuh_3eC"
      }
    },
    {
      "cell_type": "markdown",
      "source": [
        "3. What are descriptive statistics ?\n",
        "\n",
        "-> Descriptive statistics are a set of statistical methods used to summarize and describe the main features of a dataset. They provide an overview of the data, helping to understand the distribution, central tendency, and variability of the data.\n",
        "\n",
        "-> Types of Descriptive Statistics:\n",
        "\n",
        "- Measures of Central Tendency:\n",
        "  -  Mean: The average value of the data.\n",
        "  - Median: The middle value of the data when it's sorted in order.\n",
        "  - Mode: The most frequently occurring value in the data.\n",
        "\n",
        "- Measures of Variability:\n",
        "    - Range: The difference between the largest and smallest values in the data.\n",
        "    - Variance: The average of the squared differences from the mean.\n",
        "    - Standard Deviation: The square root of the variance, which represents the spread of the data.\n",
        "\n",
        "- Measures of Shape:\n",
        "    - Skewness: A measure of how asymmetric the data is.\n",
        "    - Kurtosis: A measure of how \"tailed\" or \"peaked\" the data is.\n"
      ],
      "metadata": {
        "id": "QsVfqEG_Affs"
      }
    },
    {
      "cell_type": "markdown",
      "source": [
        "4. What is inferential statistics ?\n",
        "\n",
        "-> Inferential statistics is a branch of statistics that deals with making conclusions or inferences about a population based on a sample of data. It involves using statistical methods to analyze the sample data and make predictions or generalizations about the larger population.\n",
        "\n",
        "-> Types of Inferential Statistics:\n",
        " -  Hypothesis Testing: Testing a specific hypothesis about the population based on the sample data.\n",
        " -  Confidence Intervals: Estimating a population parameter (e.g., mean, proportion) based on the sample data.\n",
        " -  Regression Analysis: Modeling the relationship between variables in the population based on the sample data."
      ],
      "metadata": {
        "id": "B90nhNzCGCG-"
      }
    },
    {
      "cell_type": "markdown",
      "source": [
        "5.  What is sampling in statistics ?\n",
        "\n",
        "-> Sampling in statistics is the process of selecting a subset of individuals, items, or data points from a larger population to represent the characteristics of the population. The goal of sampling is to make inferences about the population based on the sample data.\n"
      ],
      "metadata": {
        "id": "S40hv48PUYoR"
      }
    },
    {
      "cell_type": "markdown",
      "source": [
        "6. What are the different types of sampling methods ?\n",
        "  \n",
        "-> Types of Sampling:\n",
        "\n",
        "-  Probability Sampling: Every member of the population has an equal chance of being selected.\n",
        "-  Simple Random Sampling: Each member is selected randomly.\n",
        "- Stratified Sampling: The population is divided into subgroups\n",
        "- Cluster Sampling: The population is divided into clusters, and a random sample of clusters is selected."
      ],
      "metadata": {
        "id": "lDddOaDMVC-e"
      }
    },
    {
      "cell_type": "markdown",
      "source": [
        "7. What is the difference between random and non-random sampling ?\n",
        "\n",
        "-> Random sampling and non-random sampling are two different approaches used to select a sample from a population. The key difference between them lies in how the sample is selected.\n",
        "\n",
        "-> Random Sampling:\n",
        "- Every member has an equal chance: Each member of the population has an equal probability of being selected.\n",
        "- Selection is based on chance: The selection process is based on random numbers, random sampling software, or other randomization methods.\n",
        "-  Reduces bias: Random sampling minimizes bias and ensures that the sample is representative of the population.\n",
        "-  Allows for generalization: Random sampling enables researchers to make inferences about the population based on the sample data.\n",
        "\n",
        "-> Non-Random Sampling:\n",
        "- Selection is based on non-random criteria: Members are selected based on convenience, expertise, or other non-random factors.\n",
        "- Not every member has an equal chance: The selection process is biased towards certain members or groups.\n",
        "- May introduce bias: Non-random sampling can introduce bias and reduce the accuracy of the results.\n",
        "- Limits generalization: Non-random sampling limits the ability to make inferences about the population based on the sample data."
      ],
      "metadata": {
        "id": "PvHWd_3iVR8H"
      }
    },
    {
      "cell_type": "markdown",
      "source": [
        "8. Define and give examples of qualitative and quantitative data ?\n",
        "\n",
        "-> Qualitative and quantitative data are two types of data that are used to describe and analyze phenomena.\n",
        "\n",
        "-> Qualitative Data:\n",
        "-  Definition: Qualitative data is non-numerical data that describes characteristics, attributes, or properties of a phenomenon.\n",
        "-  Examples:\n",
        " - Text data: opinions, beliefs, surveys,\n",
        " - Image data: photographs, videos, or diagrams that convey meaning.\n",
        " - Observational data: field notes, case studies.\n",
        "  \n",
        "\n",
        "\n",
        "-> Quantitative Data:\n",
        "- Definition: Quantitative data is numerical data that can be measured, counted, or ranked.\n",
        "- Examples:\n",
        "    - Numerical data: temperatures, weights, heights, or ages.\n",
        "    - Categorical data: categories, such as male/female, yes/no, or categories of employment.\n",
        "    - Ordinal data: ranked data, such as levels of satisfaction or educational attainment.\n",
        "\n",
        "\n",
        "\n"
      ],
      "metadata": {
        "id": "5B4q9AO7V_jf"
      }
    },
    {
      "cell_type": "markdown",
      "source": [
        "9. What are the different types of data in statistics ?\n",
        "\n",
        "-> In statistics, data can be classified into different types based on its characteristics, measurement scales, and analysis methods.The main types of data are:\n",
        "\n",
        "->   Quantitative Data:\n",
        "- Definition: Numerical data that can be measured, counted, or ranked.\n",
        "- Examples: Height, weight, temperature, age, scores.\n",
        "- Measurement scales: Ratio, interval.\n",
        "\n",
        "->  Qualitative Data\n",
        "- Definition: Non-numerical data that describes characteristics, attributes, or properties.\n",
        "- Examples: Text, images, opinions, attitudes, beliefs.\n",
        "- Measurement scales: Nominal, ordinal.\n",
        "\n",
        "-> Discrete Data\n",
        "- Definition: Data that can take only specific, distinct values.\n",
        "- Examples: Number of children, number of cars, categories (e.g., male/female).\n",
        "- Measurement scale: Nominal, ordinal.\n",
        "\n",
        "-> Continuous Data\n",
        "- Definition: Data that can take any value within a given range or interval.\n",
        "- Examples: Height, weight, temperature, time.\n",
        "- Measurement scale: Ratio, interval.\n",
        "\n",
        "-> Categorical Data\n",
        "- Definition: Data that can be grouped into categories or classes.\n",
        "- Examples: Gender, nationality, occupation, color.\n",
        "- Measurement scale: Nominal.\n",
        "\n",
        "-> Ordinal Data\n",
        "- Definition: Data that can be ranked or ordered in a specific sequence.\n",
        "- Examples: Level of education, satisfaction ratings, military ranks.\n",
        "- Measurement scale: Ordinal.\n",
        "\n",
        "-> Interval Data\n",
        "- Definition: Data that can be measured on a continuous scale with equal intervals.\n",
        "- Examples: Temperature, IQ scores, blood pressure.\n",
        "- Measurement scale: Interval.\n",
        "\n",
        "-> Ratio Data\n",
        "- Definition: Data that has a true zero point and can be measured on a continuous scale.\n",
        "- Examples: Height, weight, age, distance.\n",
        "- Measurement scale: Ratio."
      ],
      "metadata": {
        "id": "YTgeUs0HXJbf"
      }
    },
    {
      "cell_type": "markdown",
      "source": [
        "10. Explain nominal, ordinal, interval, and ratio levels of measurement\n",
        "\n",
        "-> In statistics, levels of measurement refer to the way data is quantified and categorized. There are four main levels of measurement: nominal, ordinal, interval, and ratio.\n",
        "\n",
        "-> Nominal Level of Measurement :-\n",
        "- Definition: Nominal data is categorized into distinct groups or categories without any inherent order or ranking.\n",
        "- Examples: Gender (male/female), nationality, occupation, color.\n",
        "- Characteristics: No inherent order, no equal intervals, and no true zero point.\n",
        "- Statistical operations: Mode, frequency distribution.\n",
        "\n",
        "-> Ordinal Level of Measurement :-\n",
        "- Definition: Ordinal data is ranked or ordered in a specific sequence, but the intervals between ranks are not equal.\n",
        "-Examples: Level of education (high school, bachelor's, master's), satisfaction ratings (low, medium, high), military ranks.\n",
        "- Characteristics: Inherent order, but no equal intervals and no true zero point.\n",
        "- Statistical operations: Mode, median, rank correlation.\n",
        "\n",
        "-> Interval Level of Measurement :-\n",
        "- Definition: Interval data is measured on a continuous scale with equal intervals, but there is no true zero point.\n",
        "- Examples: Temperature (Celsius or Fahrenheit), IQ scores, blood pressure.\n",
        "-Characteristics: Equal intervals, but no true zero point.\n",
        "- Statistical operations: Mean, median, mode, standard deviation, correlation.\n",
        "\n",
        "->  Ratio Level of Measurement :-\n",
        "- Definition: Ratio data is measured on a continuous scale with equal intervals and a true zero point.\n",
        "- Examples: Height, weight, age, distance.\n",
        "- Characteristics: Equal intervals and a true zero point.\n",
        "- Statistical operations: Mean, median, mode, standard deviation, correlation, ratio calculations."
      ],
      "metadata": {
        "id": "OMzfoJrgYjeR"
      }
    },
    {
      "cell_type": "markdown",
      "source": [
        "11. What is the measure of central tendency ?\n",
        "\n",
        "-> The measure of central tendency is a statistical method used to describe the central or typical value of a dataset. It aims to provide a single value that represents the entire dataset.\n",
        "\n",
        "-> Types of Measures of Central Tendency:\n",
        "- Mean: The average value of the dataset, calculated by summing all values and dividing by the number of values.\n",
        "- Median: The middle value of the dataset when it is sorted in ascending or descending order.\n",
        "- Mode: The most frequently occurring value in the dataset.\n",
        "\n",
        "->  Importance of Measures of Central Tendency:\n",
        "- Summarizes data: Measures of central tendency provide a concise summary of the data.\n",
        "- Facilitates comparison: They enable comparison between different datasets or groups.\n",
        "- Helps in decision-making: Measures of central tendency inform decision-making by providing insights into the typical value of a dataset."
      ],
      "metadata": {
        "id": "58OiVzO0ZZbB"
      }
    },
    {
      "cell_type": "markdown",
      "source": [
        "12. Define mean, median, and mode.\n",
        "\n",
        "->  Mean, median, and mode are three ways to calculate the average of a set of numbers. They are all measures of central tendency.\n",
        "\n",
        "-> Mean\n",
        "\n",
        "- The average of a set of numbers\n",
        "- Calculated by adding all the numbers and dividing by the number of numbers\n",
        "- Also known as the arithmetic mean\n",
        "\n",
        "-> Median\n",
        "\n",
        "- The middle value of a set of numbers when ordered from least to greatest\n",
        "- If there are two middle numbers, the median is the average of those two numbers\n",
        "\n",
        "-> Mode\n",
        "\n",
        "- The number that occurs most often in a set of numbers\n",
        "- Can be used for non-numerical values, such as colors\n",
        "- Can be used to summarize categorical variables"
      ],
      "metadata": {
        "id": "Xt9FJa8uZ46v"
      }
    },
    {
      "cell_type": "markdown",
      "source": [
        "13. What is the significance of the measure of central tendency ?\n",
        "\n",
        "-> Measures of central tendency (like mean, median, and mode) are crucial in statistics as they provide a single, representative value summarizing a dataset, offering a quick understanding of its central point and distribution."
      ],
      "metadata": {
        "id": "mNfsnANVvy5l"
      }
    },
    {
      "cell_type": "markdown",
      "source": [
        "14. What is variance, and how is it calculated ?\n",
        "\n",
        "-> Variance is a statistical measurement of how spread out data points are in a data set. It's calculated by finding the average of the squared differences between each data point and the mean.\n",
        "\n",
        "-> Types of variance:-\n",
        "\n",
        "- Population variance: Usually denoted by σ2\n",
        "- Sample variance: Usually denoted by s2\n"
      ],
      "metadata": {
        "id": "c3Nzg7BHwG2F"
      }
    },
    {
      "cell_type": "markdown",
      "source": [
        "15. What is standard deviation, and why is it important ?\n",
        "\n",
        "->  Standard deviation is a statistical measurement that shows how spread out a set of data is. It's an important tool for understanding and managing variability.\n",
        "\n",
        "->Standard deviation important because :-\n",
        "\n",
        "- Helps identify outliers: Standard deviation helps determine what's considered an outlier.\n",
        "- Helps assess risk: In finance, standard deviation is used to measure the riskiness of an asset.\n",
        "- Helps manage quality: In manufacturing, standard deviation is used to monitor product quality.\n",
        "- Helps analyze data: In social sciences, standard deviation is used to analyze data from surveys or experiments.\n",
        "- Helps interpret results: In studies, standard deviation helps readers interpret results more accurately."
      ],
      "metadata": {
        "id": "xke0PFBKwfv_"
      }
    },
    {
      "cell_type": "markdown",
      "source": [
        "16. Define and explain the term range in statistics\n",
        "\n",
        "-> In statistics, the range is a measure of variability that represents the difference between the highest and lowest values in a dataset. It's calculated by subtracting the minimum value from the maximum value.\n",
        "\n",
        "-> The range provides a simple and intuitive way to understand the spread of data. A larger range indicates greater variability, while a smaller range suggests less variability."
      ],
      "metadata": {
        "id": "mo5Qo0iuw3RI"
      }
    },
    {
      "cell_type": "markdown",
      "source": [
        "17. What is the difference between variance and standard deviation\n",
        "\n",
        "-> Variance is the average of squared deviations from the mean, while standard deviation is the square root of variance. Both are measures of how spread out a set of data is."
      ],
      "metadata": {
        "id": "B5c63QPfxOP9"
      }
    },
    {
      "cell_type": "markdown",
      "source": [
        "18. What is skewness in a dataset ?\n",
        "\n",
        "-> Skewness in a dataset is a statistical measure that describes the asymmetry or lack of symmetry in the distribution of data around its mean. It indicates whether the data points tend to cluster more on one side of the mean than the other."
      ],
      "metadata": {
        "id": "FoduSfyBzJaA"
      }
    },
    {
      "cell_type": "markdown",
      "source": [
        "19. What does it mean if a dataset is positively or negatively skewed ?\n",
        "\n",
        "-> A positively skewed dataset has a longer tail on the right side, meaning the majority of values cluster towards the lower end of the distribution, and a few larger values pull the tail to the right. Conversely, a negatively skewed dataset has a longer tail on the left side, with most values clustered towards the higher end, and a few smaller values pulling the tail to the left.\n"
      ],
      "metadata": {
        "id": "8rqe7uZyzUOv"
      }
    },
    {
      "cell_type": "markdown",
      "source": [
        "20. Define and explain kurtosis\n",
        "\n",
        "-> Kurtosis is a measure of the tailedness of a distribution. Tailedness is how often outliers occur. Excess kurtosis is the tailedness of a distribution relative to a normal distribution. Distributions with medium kurtosis (medium tails) are mesokurtic. Distributions with low kurtosis (thin tails) are platykurtic."
      ],
      "metadata": {
        "id": "2NxpvPrxzrx-"
      }
    },
    {
      "cell_type": "markdown",
      "source": [
        "21. What is the purpose of covariance ?\n",
        "\n",
        "-> Covariance is a statistical measure that calculates the joint variability between two random variables. It measures how much the variables move together, either positively or negatively. In essence, covariance helps us understand the relationship between two variables.\n",
        "\n",
        "-> Purpose of Covariance:\n",
        "- Measures Linear Relationship: Covariance determines the strength and direction of a linear relationship between two variables.\n",
        "- Identifies Positive or Negative Relationship: A positive covariance indicates that the variables tend to increase or decrease together, while a negative covariance suggests that as one variable increases, the other decreases.\n",
        "- Helps in Predictive Modeling: Covariance is used in predictive models, such as linear regression, to forecast the value of one variable based on the value of another.\n",
        "- Assesses Risk and Portfolio Management: In finance, covariance is used to evaluate the risk of a portfolio by measuring the joint variability of asset returns.\n",
        "- Facilitates Data Analysis and Visualization: Covariance is used in various data analysis techniques, such as principal component analysis (PCA) and correlation analysis."
      ],
      "metadata": {
        "id": "NIRUALZQz8Tw"
      }
    },
    {
      "cell_type": "markdown",
      "source": [
        "22. What does correlation measure in statistics ?\n",
        "\n",
        "-> In statistics, correlation measures the strength and direction of the relationship between two or more variables. It's a common tool for describing simple relationships between data.\n",
        "\n",
        "-> How is correlation measured?\n",
        "- Correlation is expressed as a number between -1 and 1.\n",
        "- A correlation of 0 means there is no correlation.\n",
        "- A positive correlation means that both variables change in the same direction.\n",
        "- A negative correlation means that the variables change in opposite direction"
      ],
      "metadata": {
        "id": "hf8unO1_0Q2e"
      }
    },
    {
      "cell_type": "markdown",
      "source": [
        "23. What is the difference between covariance and correlation ?\n",
        "\n",
        "-> Covariance measures how two variables change together, while correlation measures how strongly they are related. Correlation is a special case of covariance.\n",
        "\n",
        "-> Covariance :-\n",
        "- A measure of how much two variables vary together\n",
        "- Can be any number from negative infinity to positive infinity\n",
        "- Affected by the variables' measurement scales\n",
        "- Only gauges linear relationships between variables\n",
        "\n",
        "-> Correlation :=-\n",
        "- A statistical measure of how strongly two variables are related\n",
        "- Always between -1 and 1\n",
        "- A dimensionless measure that allows for easy comparison across datasets\n",
        "- Measures both the strength and direction of the linear relationship between two variables"
      ],
      "metadata": {
        "id": "yV8d9iEb0l8y"
      }
    },
    {
      "cell_type": "markdown",
      "source": [
        "24.  What are some real-world applications of statistics?\n",
        "\n",
        "-> Statistics has numerous real-world applications across various fields. Some examples are :\n",
        "\n",
        "-> Business and Finance :-\n",
        "- Stock Market Analysis: Statistical models help investors analyze market trends, make informed decisions, and predict future market behavior¹.\n",
        "- Budgeting and Finance: Statistical analysis enables businesses to manage expenses, forecast revenue, and optimize resource allocation .\n",
        "\n",
        "\n",
        "-> Healthcare and Medicine :-\n",
        "- Medical Research: Statistical analysis is crucial in medical research to identify trends, test hypotheses, and evaluate treatment effectiveness .\n",
        "- Epidemiology: Statistical models help track disease outbreaks, identify risk factors, and develop prevention strategies.\n",
        "- Healthcare Management: Statistical analysis enables healthcare organizations to optimize resource allocation, manage patient flow, and improve quality of care .\n",
        "\n",
        "Social Sciences and Education :-\n",
        "- Educational Research: Statistical analysis helps researchers understand educational trends, evaluate program effectiveness, and inform policy decisions.\n",
        "- Social Research: Statistical models enable researchers to analyze social trends, identify patterns, and understand relationships between variables .\n",
        "- Policy Analysis: Statistical analysis informs policy decisions by evaluating program effectiveness, identifying areas for improvement, and predicting outcomes ."
      ],
      "metadata": {
        "id": "cXviPTgt1Blm"
      }
    },
    {
      "cell_type": "markdown",
      "source": [
        "PRACTICAL\n"
      ],
      "metadata": {
        "id": "D4o3zqjj_UvD"
      }
    },
    {
      "cell_type": "markdown",
      "source": [
        " 1. How do you calculate the mean, median, and mode of a dataset?"
      ],
      "metadata": {
        "id": "BM69JFtO_Wqj"
      }
    },
    {
      "cell_type": "code",
      "source": [
        "import statistics\n",
        "\n",
        "data = [1, 2, 3, 4, 5]\n",
        "\n",
        "mean = statistics.mean(data)\n",
        "median = statistics.median(data)\n",
        "mode = statistics.mode(data)\n",
        "\n",
        "print(\"mean: \", mean)\n",
        "print(\"median: \", median)\n",
        "print(\"mode: \", mode)"
      ],
      "metadata": {
        "id": "WVd720YZ_h8v",
        "colab": {
          "base_uri": "https://localhost:8080/"
        },
        "outputId": "6d8f9d15-536a-408a-837d-2f9cecf27c1b"
      },
      "execution_count": 2,
      "outputs": [
        {
          "output_type": "stream",
          "name": "stdout",
          "text": [
            "mean:  3\n",
            "median:  3\n",
            "mode:  1\n"
          ]
        }
      ]
    },
    {
      "cell_type": "markdown",
      "source": [
        "2. Write a Python program to compute the variance and standard deviation of a dataset"
      ],
      "metadata": {
        "id": "XrZ2onE3A0Kd"
      }
    },
    {
      "cell_type": "code",
      "source": [
        "import numpy as np\n",
        "\n",
        "data = [1, 2, 3, 4, 5]\n",
        "\n",
        "mean_value = np.mean(data)\n",
        "variance = np.var(data)\n",
        "std_dev = np.std(data)\n",
        "\n",
        "print(\"Mean:\", mean_value)\n",
        "print(\"Variance:\", variance)\n",
        "print(\"Standard Deviation:\", std_dev)"
      ],
      "metadata": {
        "colab": {
          "base_uri": "https://localhost:8080/"
        },
        "id": "yrmjZiPGA3ZE",
        "outputId": "b739f781-b3c3-45ff-f6b1-51e6e12890ee"
      },
      "execution_count": 3,
      "outputs": [
        {
          "output_type": "stream",
          "name": "stdout",
          "text": [
            "Mean: 3.0\n",
            "Variance: 2.0\n",
            "Standard Deviation: 1.4142135623730951\n"
          ]
        }
      ]
    },
    {
      "cell_type": "markdown",
      "source": [
        "3. Create a dataset and classify it into nominal, ordinal, interval, and ratio types"
      ],
      "metadata": {
        "id": "-ZazlOP2Bm3t"
      }
    },
    {
      "cell_type": "code",
      "source": [
        "#Nominal Data\n",
        "\n",
        "import pandas as pd\n",
        "\n",
        "data = pd.Series(['Male', 'Female', 'Male', 'Female'])\n",
        "nominal_data = data.astype('category')\n",
        "print(\"Nominal Data\")\n",
        "print(nominal_data)\n",
        "print( )\n",
        "\n",
        "#Ordinal Data\n",
        "data = pd.Series(['First','Second','Third'])\n",
        "\n",
        "ordinal_data = pd.Categorical(data, categories=['Third', 'Second', 'First'], ordered=True)\n",
        "print(\"Ordinal Data\")\n",
        "print(ordinal_data)\n",
        "print( )\n",
        "#Ratio Data and Interval Data\n",
        "data = pd.Series([20, 30, 40, 50])\n",
        "print(\"Ratio Data and Interval Data\")\n",
        "print(data)\n",
        "\n"
      ],
      "metadata": {
        "colab": {
          "base_uri": "https://localhost:8080/"
        },
        "id": "tlNhURIFBqt3",
        "outputId": "240fdd86-7185-4a76-f8b8-08177673c841"
      },
      "execution_count": 10,
      "outputs": [
        {
          "output_type": "stream",
          "name": "stdout",
          "text": [
            "Nominal Data\n",
            "0      Male\n",
            "1    Female\n",
            "2      Male\n",
            "3    Female\n",
            "dtype: category\n",
            "Categories (2, object): ['Female', 'Male']\n",
            "\n",
            "Ordinal Data\n",
            "['First', 'Second', 'Third']\n",
            "Categories (3, object): ['Third' < 'Second' < 'First']\n",
            "\n",
            "Ratio Data and Interval Data\n",
            "0    20\n",
            "1    30\n",
            "2    40\n",
            "3    50\n",
            "dtype: int64\n"
          ]
        }
      ]
    },
    {
      "cell_type": "markdown",
      "source": [
        "4. Implement sampling techniques like random sampling and stratified sampling"
      ],
      "metadata": {
        "id": "yO5p7fo-Qofi"
      }
    },
    {
      "cell_type": "code",
      "source": [
        "#Random Sampling\n",
        "import pandas as pd\n",
        "import numpy as np\n",
        "\n",
        "population = pd.DataFrame({\n",
        "    'Name': ['John', 'Jane', 'Bob', 'Alice', 'Mike'],\n",
        "    'Age': [25, 30, 35, 20, 40]\n",
        "})\n",
        "\n",
        "np.random.seed(0)\n",
        "random_sample = population.sample(n=3)\n",
        "print(\"Random Sampling\")\n",
        "print(random_sample)\n",
        "\n",
        "#Stratified Sampling\n",
        "\n",
        "population = pd.DataFrame({\n",
        "    'Name': ['John', 'Jasmine', 'Bikram', 'Alia', 'Utpal', 'Sidd', 'Karan'],\n",
        "    'Age': [25, 30, 35, 20, 40, 28, 38],\n",
        "    'Gender': ['Male', 'Female', 'Male', 'Female', 'Male', 'Female', 'Male']\n",
        "})\n",
        "\n",
        "strata = population['Gender'].unique()\n",
        "np.random.seed(0)\n",
        "\n",
        "stratified_sample = pd.concat([population[population['Gender'] == stratum].sample(n=3) for stratum in strata])\n",
        "print('Stratified Sampling')\n",
        "print(stratified_sample)"
      ],
      "metadata": {
        "colab": {
          "base_uri": "https://localhost:8080/"
        },
        "id": "V09gSGINQsQu",
        "outputId": "54d60f2d-ce21-4736-d019-bbb6c4f5d191"
      },
      "execution_count": 16,
      "outputs": [
        {
          "output_type": "stream",
          "name": "stdout",
          "text": [
            "Random Sampling\n",
            "   Name  Age\n",
            "2   Bob   35\n",
            "0  John   25\n",
            "1  Jane   30\n",
            "Stratified Sampling\n",
            "      Name  Age  Gender\n",
            "4    Utpal   40    Male\n",
            "6    Karan   38    Male\n",
            "2   Bikram   35    Male\n",
            "1  Jasmine   30  Female\n",
            "5     Sidd   28  Female\n",
            "3     Alia   20  Female\n"
          ]
        }
      ]
    },
    {
      "cell_type": "markdown",
      "source": [
        "5. Write a Python function to calculate the range of a dataset"
      ],
      "metadata": {
        "id": "MdHkSiqBSsv3"
      }
    },
    {
      "cell_type": "code",
      "source": [
        "\n",
        "data = [16,12, 15, 18, 20, 22,15]\n",
        "range_value =np.ptp(data)\n",
        "print(\"Range of the dataset:\", range_value)"
      ],
      "metadata": {
        "colab": {
          "base_uri": "https://localhost:8080/"
        },
        "id": "4_9DN4_iSw-u",
        "outputId": "e2fa4dad-9a28-4fc1-a937-607da2948024"
      },
      "execution_count": 21,
      "outputs": [
        {
          "output_type": "stream",
          "name": "stdout",
          "text": [
            "Range of the dataset: 10\n"
          ]
        }
      ]
    },
    {
      "cell_type": "markdown",
      "source": [
        "6. Create a dataset and plot its histogram to visualize skewness"
      ],
      "metadata": {
        "id": "gg8bSTzUUdZN"
      }
    },
    {
      "cell_type": "code",
      "source": [
        "import matplotlib.pyplot as plt\n",
        "\n",
        "np.random.seed(0)\n",
        "data = np.random.exponential(scale=2, size=1000)\n",
        "\n",
        "plt.hist(data, bins=30, alpha=0.7, color='skyblue', edgecolor='black')\n",
        "plt.title('Histogram of Exponential Data')\n",
        "plt.xlabel('Value')\n",
        "plt.ylabel('Frequency')\n",
        "plt.show()"
      ],
      "metadata": {
        "colab": {
          "base_uri": "https://localhost:8080/",
          "height": 472
        },
        "id": "FMqwtksCUkFv",
        "outputId": "07d42263-2c21-49db-a693-55e2ebdf0fcc"
      },
      "execution_count": 22,
      "outputs": [
        {
          "output_type": "display_data",
          "data": {
            "text/plain": [
              "<Figure size 640x480 with 1 Axes>"
            ],
            "image/png": "[encoded data removed]"
          },
          "metadata": {}
        }
      ]
    },
    {
      "cell_type": "markdown",
      "source": [
        "7. Calculate skewness and kurtosis of a dataset using Python libraries"
      ],
      "metadata": {
        "id": "4tq7LuBKcg-Y"
      }
    },
    {
      "cell_type": "code",
      "source": [
        "from scipy.stats import skew,kurtosis\n",
        "\n",
        "data = [88, 85, 82, 97, 67, 77, 74, 86, 81, 95, 77, 88, 85, 76, 81]\n",
        "skewness_value = skew(data)\n",
        "print(\"Skewness:\", skewness_value)\n",
        "\n",
        "kurtosis_value = kurtosis(data)\n",
        "print(\"Kurtosis:\", kurtosis_value)"
      ],
      "metadata": {
        "colab": {
          "base_uri": "https://localhost:8080/"
        },
        "id": "VAV3PVDycj3r",
        "outputId": "f3bda29d-a539-4fd2-8df3-aeeb55635bb4"
      },
      "execution_count": 25,
      "outputs": [
        {
          "output_type": "stream",
          "name": "stdout",
          "text": [
            "Skewness: 0.029331688766181797\n",
            "Kurtosis: -0.29271198374234686\n"
          ]
        }
      ]
    },
    {
      "cell_type": "markdown",
      "source": [
        "8. Generate a dataset and demonstrate positive and negative skewness.\n"
      ],
      "metadata": {
        "id": "gcRcSP44c_CU"
      }
    },
    {
      "cell_type": "code",
      "source": [
        "\n",
        "np.random.seed(0)\n",
        "positive_skew_data = np.random.exponential(scale=2, size=1000)\n",
        "\n",
        "negative_skew_data = -np.random.exponential(scale=2, size=1000)\n",
        "\n",
        "positive_skewness = skew(positive_skew_data)\n",
        "negative_skewness = skew(negative_skew_data)\n",
        "\n",
        "print(\"Positive Skewness:\", positive_skewness)\n",
        "print(\"Negative Skewness:\", negative_skewness)\n",
        "\n",
        "plt.figure(figsize=(12, 4))\n",
        "\n",
        "plt.subplot(1, 2, 1)\n",
        "plt.hist(positive_skew_data, bins=30, alpha=0.7, color='skyblue', edgecolor='black')\n",
        "plt.title('Positively Skewed Data')\n",
        "plt.xlabel('Value')\n",
        "plt.ylabel('Frequency')\n",
        "\n",
        "plt.subplot(1, 2, 2)\n",
        "plt.hist(negative_skew_data, bins=30, alpha=0.7, color='skyblue', edgecolor='black')\n",
        "plt.title('Negatively Skewed Data')\n",
        "plt.xlabel('Value')\n",
        "plt.ylabel('Frequency')\n",
        "\n",
        "plt.tight_layout()\n",
        "plt.show()\n"
      ],
      "metadata": {
        "colab": {
          "base_uri": "https://localhost:8080/",
          "height": 442
        },
        "id": "8uc5w4uPdGdO",
        "outputId": "46e20706-ff02-4db6-fae4-491bee3a8619"
      },
      "execution_count": 26,
      "outputs": [
        {
          "output_type": "stream",
          "name": "stdout",
          "text": [
            "Positive Skewness: 2.0526452829685935\n",
            "Negative Skewness: -1.7494418645601095\n"
          ]
        },
        {
          "output_type": "display_data",
          "data": {
            "text/plain": [
              "<Figure size 1200x400 with 2 Axes>"
            ],
            "image/png": "[encoded data removed]"
          },
          "metadata": {}
        }
      ]
    },
    {
      "cell_type": "markdown",
      "source": [
        "9. Write a Python script to calculate covariance between two datasets"
      ],
      "metadata": {
        "id": "g7yUGdbVdaQd"
      }
    },
    {
      "cell_type": "code",
      "source": [
        "\n",
        "dataset1 = np.array([1, 2, 3, 4, 5])\n",
        "dataset2 = np.array([2, 4, 6, 8, 10])\n",
        "\n",
        "covariance = np.cov(dataset1, dataset2)[0, 1]\n",
        "\n",
        "print(\"Covariance:\", covariance)\n",
        "\n"
      ],
      "metadata": {
        "colab": {
          "base_uri": "https://localhost:8080/"
        },
        "id": "t_kfYeQrdeBH",
        "outputId": "dcca70a1-9ddc-464a-fc01-39af276b084d"
      },
      "execution_count": 27,
      "outputs": [
        {
          "output_type": "stream",
          "name": "stdout",
          "text": [
            "Covariance: 5.0\n"
          ]
        }
      ]
    },
    {
      "cell_type": "markdown",
      "source": [
        "10. Write a Python script to calculate the correlation coefficient between two datasets"
      ],
      "metadata": {
        "id": "_TfGZ8zWd3UG"
      }
    },
    {
      "cell_type": "code",
      "source": [
        "dataset1 = np.array([1, 2, 3, 4, 5])\n",
        "dataset2 = np.array([2, 4, 6, 8, 10])\n",
        "\n",
        "correlation_coefficient = np.corrcoef(dataset1, dataset2)[0, 1]\n",
        "\n",
        "print(\"Correlation Coefficient:\", correlation_coefficient)"
      ],
      "metadata": {
        "colab": {
          "base_uri": "https://localhost:8080/"
        },
        "id": "ZEa-Tk6Zd6pi",
        "outputId": "a8f74c7b-55a3-42b4-e19c-0b3c57092255"
      },
      "execution_count": 28,
      "outputs": [
        {
          "output_type": "stream",
          "name": "stdout",
          "text": [
            "Correlation Coefficient: 0.9999999999999999\n"
          ]
        }
      ]
    },
    {
      "cell_type": "markdown",
      "source": [
        "11. Create a scatter plot to visualize the relationship between two variables\n"
      ],
      "metadata": {
        "id": "5rgMo69qeD0t"
      }
    },
    {
      "cell_type": "code",
      "source": [
        "\n",
        "x = np.array([1, 2, 3, 4, 5])\n",
        "y = np.array([2, 4, 6, 8, 10])\n",
        "plt.scatter(x, y)\n",
        "plt.title('Scatter Plot of X vs Y')\n",
        "plt.xlabel('X')\n",
        "plt.ylabel('Y')\n",
        "plt.show()"
      ],
      "metadata": {
        "colab": {
          "base_uri": "https://localhost:8080/",
          "height": 472
        },
        "id": "mnIVHW3heHVp",
        "outputId": "2a1cbe05-cd2e-4695-b712-602f531942ee"
      },
      "execution_count": 29,
      "outputs": [
        {
          "output_type": "display_data",
          "data": {
            "text/plain": [
              "<Figure size 640x480 with 1 Axes>"
            ],
            "image/png": "[encoded data removed]"
          },
          "metadata": {}
        }
      ]
    },
    {
      "cell_type": "markdown",
      "source": [
        "12. Implement and compare simple random sampling and systematic sampling"
      ],
      "metadata": {
        "id": "7BhqBfEcqcGs"
      }
    },
    {
      "cell_type": "code",
      "source": [
        "import random\n",
        "\n",
        "def simple_random_sampling(population, sample_size):\n",
        "    return random.sample(population, sample_size)\n",
        "\n",
        "population = [1, 2, 3, 4, 5, 6, 7, 8, 9, 10]\n",
        "sample_size = 5\n",
        "\n",
        "sample = simple_random_sampling(population, sample_size)\n",
        "print(sample)\n",
        "\n",
        "def systematic_sampling(population, sample_size):\n",
        "    interval = len(population) // sample_size\n",
        "    start = random.randint(0, interval - 1)\n",
        "    return [population[start + i * interval] for i in range(sample_size)]\n",
        "\n",
        "population = [1, 2, 3, 4, 5, 6, 7, 8, 9, 10]\n",
        "sample_size = 5\n",
        "\n",
        "sample = systematic_sampling(population, sample_size)\n",
        "print(sample)"
      ],
      "metadata": {
        "colab": {
          "base_uri": "https://localhost:8080/"
        },
        "id": "NRTVpX_qqhE_",
        "outputId": "1c1af497-8fcd-471d-a7ea-24d890599167"
      },
      "execution_count": 30,
      "outputs": [
        {
          "output_type": "stream",
          "name": "stdout",
          "text": [
            "[2, 9, 7, 1, 4]\n",
            "[1, 3, 5, 7, 9]\n"
          ]
        }
      ]
    },
    {
      "cell_type": "markdown",
      "source": [
        "13. Calculate the mean, median, and mode of grouped data"
      ],
      "metadata": {
        "id": "XHeWAl4zq1dU"
      }
    },
    {
      "cell_type": "code",
      "source": [
        "from scipy import stats\n",
        "\n",
        "data = {\n",
        "    'Class': ['0-10', '10-20', '20-30', '30-40', '40-50'],\n",
        "    'Frequency': [5, 10, 15, 10, 5],\n",
        "    'Midpoint': [5, 15, 25, 35, 45]\n",
        "}\n",
        "\n",
        "mean = np.sum(np.multiply(data['Frequency'], data['Midpoint'])) / np.sum(data['Frequency'])\n",
        "print(\"Mean:\", mean)\n",
        "\n",
        "median_class = np.where(np.cumsum(data['Frequency']) >= np.sum(data['Frequency']) / 2)[0][0]\n",
        "median = data['Midpoint'][median_class]\n",
        "print(\"Median:\", median)\n",
        "\n",
        "mode_class = np.argmax(data['Frequency'])\n",
        "mode = data['Midpoint'][mode_class]\n",
        "print(\"Mode:\", mode)\n"
      ],
      "metadata": {
        "colab": {
          "base_uri": "https://localhost:8080/"
        },
        "id": "HxrgsLwEq6UO",
        "outputId": "cc85a710-d507-4641-f989-e46f94924295"
      },
      "execution_count": 31,
      "outputs": [
        {
          "output_type": "stream",
          "name": "stdout",
          "text": [
            "Mean: 25.0\n",
            "Median: 25\n",
            "Mode: 25\n"
          ]
        }
      ]
    },
    {
      "cell_type": "markdown",
      "source": [
        "14. Simulate data using Python and calculate its central tendency and dispersion."
      ],
      "metadata": {
        "id": "Ieebw5FbrTJc"
      }
    },
    {
      "cell_type": "code",
      "source": [
        "data = np.random.normal(50, 10, 50)\n",
        "mean = np.mean(data)\n",
        "median = np.median(data)\n",
        "mode = np.round(np.mean(data))  # Approximate mode as the rounded mean\n",
        "\n",
        "print(\"Mean:\", mean)\n",
        "print(\"Median:\", median)\n",
        "print(\"Mode:\", mode)\n",
        "\n",
        "range_min = np.min(data)\n",
        "range_max = np.max(data)\n",
        "range = range_max - range_min\n",
        "\n",
        "variance = np.var(data)\n",
        "std_dev = np.std(data)\n",
        "\n",
        "print(\"Range:\", range)\n",
        "print(\"Variance:\", variance)\n",
        "print(\"Standard Deviation:\", std_dev)\n",
        "\n",
        "plt.hist(data, bins=30, alpha=0.5)\n",
        "plt.axvline(x=mean, color='r', linestyle='--', label='Mean')\n",
        "plt.axvline(x=median, color='g', linestyle='--', label='Median')\n",
        "plt.axvline(x=mode, color='b', linestyle='--', label='Mode')\n",
        "plt.legend()\n",
        "plt.title('Histogram of Simulated Data')\n",
        "plt.xlabel('Value')\n",
        "plt.ylabel('Frequency')\n",
        "plt.show()"
      ],
      "metadata": {
        "colab": {
          "base_uri": "https://localhost:8080/",
          "height": 576
        },
        "id": "rPbzdCAsrpQ0",
        "outputId": "fe1bb4b2-7ab4-47a8-ca9a-f18e65c124f6"
      },
      "execution_count": 33,
      "outputs": [
        {
          "output_type": "stream",
          "name": "stdout",
          "text": [
            "Mean: 50.15187643835171\n",
            "Median: 49.51479979469592\n",
            "Mode: 50.0\n",
            "Range: 50.81470428447397\n",
            "Variance: 114.63508367703481\n",
            "Standard Deviation: 10.706777464626544\n"
          ]
        },
        {
          "output_type": "display_data",
          "data": {
            "text/plain": [
              "<Figure size 640x480 with 1 Axes>"
            ],
            "image/png": "[encoded data removed]"
          },
          "metadata": {}
        }
      ]
    },
    {
      "cell_type": "markdown",
      "source": [
        " 15. Use NumPy or pandas to summarize a dataset’s descriptive statistics"
      ],
      "metadata": {
        "id": "xQKZ_OizsQ1m"
      }
    },
    {
      "cell_type": "code",
      "source": [
        "\n",
        "data = {\n",
        "    'Name': ['Alice', 'Bob', 'Charlie', 'Dave', 'Emily'],\n",
        "    'Age': [25, 30, 35, 40, 45],\n",
        "    'Height (cm)': [165, 170, 175, 180, 185],\n",
        "    'Weight (kg)': [55, 60, 65, 70, 75]\n",
        "}\n",
        "\n",
        "df = pd.DataFrame(data)\n",
        "\n",
        "# Calculate descriptive statistics using pandas\n",
        "print(\"Descriptive Statistics:\")\n",
        "print(df.describe())\n",
        "\n",
        "# Calculate descriptive statistics using NumPy\n",
        "print(\"\\nMean:\")\n",
        "print(np.mean(df['Age']))\n",
        "print(np.mean(df['Height (cm)']))\n",
        "print(np.mean(df['Weight (kg)']))\n",
        "\n",
        "print(\"\\nMedian:\")\n",
        "print(np.median(df['Age']))\n",
        "print(np.median(df['Height (cm)']))\n",
        "print(np.median(df['Weight (kg)']))\n",
        "\n",
        "print(\"\\nStandard Deviation:\")\n",
        "print(np.std(df['Age']))\n",
        "print(np.std(df['Height (cm)']))\n",
        "print(np.std(df['Weight (kg)']))\n",
        "\n",
        "print(\"\\nVariance:\")\n",
        "print(np.var(df['Age']))\n",
        "print(np.var(df['Height (cm)']))\n",
        "print(np.var(df['Weight (kg)']))\n",
        "\n",
        "print(\"\\nMin and Max:\")\n",
        "print(np.min(df['Age']), np.max(df['Age']))\n",
        "print(np.min(df['Height (cm)']), np.max(df['Height (cm)']))\n",
        "print(np.min(df['Weight (kg)']), np.max(df['Weight (kg)']))"
      ],
      "metadata": {
        "colab": {
          "base_uri": "https://localhost:8080/"
        },
        "id": "F0RoVvgQsdQ2",
        "outputId": "ec9fc569-5874-468d-f84c-64a472ed87e7"
      },
      "execution_count": 34,
      "outputs": [
        {
          "output_type": "stream",
          "name": "stdout",
          "text": [
            "Descriptive Statistics:\n",
            "             Age  Height (cm)  Weight (kg)\n",
            "count   5.000000     5.000000     5.000000\n",
            "mean   35.000000   175.000000    65.000000\n",
            "std     7.905694     7.905694     7.905694\n",
            "min    25.000000   165.000000    55.000000\n",
            "25%    30.000000   170.000000    60.000000\n",
            "50%    35.000000   175.000000    65.000000\n",
            "75%    40.000000   180.000000    70.000000\n",
            "max    45.000000   185.000000    75.000000\n",
            "\n",
            "Mean:\n",
            "35.0\n",
            "175.0\n",
            "65.0\n",
            "\n",
            "Median:\n",
            "35.0\n",
            "175.0\n",
            "65.0\n",
            "\n",
            "Standard Deviation:\n",
            "7.0710678118654755\n",
            "7.0710678118654755\n",
            "7.0710678118654755\n",
            "\n",
            "Variance:\n",
            "50.0\n",
            "50.0\n",
            "50.0\n",
            "\n",
            "Min and Max:\n",
            "25 45\n",
            "165 185\n",
            "55 75\n"
          ]
        }
      ]
    },
    {
      "cell_type": "markdown",
      "source": [
        "16. Plot a boxplot to understand the spread and identify outliers"
      ],
      "metadata": {
        "id": "lnSWzkEkslQ9"
      }
    },
    {
      "cell_type": "code",
      "source": [
        "\n",
        "np.random.seed(0)\n",
        "data = np.random.normal(0, 1, 100)\n",
        "\n",
        "data = np.concatenate((data, np.array([-5, 5])))\n",
        "\n",
        "plt.boxplot(data, vert=False)\n",
        "\n",
        "plt.title('Boxplot of Random Data')\n",
        "plt.xlabel('Value')\n",
        "\n",
        "plt.show()"
      ],
      "metadata": {
        "colab": {
          "base_uri": "https://localhost:8080/",
          "height": 472
        },
        "id": "JfqR-V57smjw",
        "outputId": "5f850402-25bd-4ed5-8e05-38385d1cfc67"
      },
      "execution_count": 35,
      "outputs": [
        {
          "output_type": "display_data",
          "data": {
            "text/plain": [
              "<Figure size 640x480 with 1 Axes>"
            ],
            "image/png": "[encoded data removed]"
          },
          "metadata": {}
        }
      ]
    },
    {
      "cell_type": "markdown",
      "source": [
        "17. Calculate the interquartile range (IQR) of a dataset"
      ],
      "metadata": {
        "id": "GbgMokfHvIgs"
      }
    },
    {
      "cell_type": "code",
      "source": [
        "data = [12, 15, 18, 20, 22, 25, 30, 35, 40, 45]\n",
        "\n",
        "# Arrange data in order\n",
        "data.sort()\n",
        "\n",
        "# Find Q1 and Q3\n",
        "Q1 = np.percentile(data, 25)\n",
        "Q3 = np.percentile(data, 75)\n",
        "\n",
        "# Calculate IQR\n",
        "IQR = Q3 - Q1\n",
        "\n",
        "print(\"Interquartile Range (IQR):\", IQR)"
      ],
      "metadata": {
        "colab": {
          "base_uri": "https://localhost:8080/"
        },
        "id": "w1Oz6E50vMEP",
        "outputId": "15137697-2234-483d-b254-657c34708d52"
      },
      "execution_count": 36,
      "outputs": [
        {
          "output_type": "stream",
          "name": "stdout",
          "text": [
            "Interquartile Range (IQR): 15.25\n"
          ]
        }
      ]
    },
    {
      "cell_type": "markdown",
      "source": [
        "18. Implement Z-score normalization and explain its significance"
      ],
      "metadata": {
        "id": "ewvuqmjTvd8k"
      }
    },
    {
      "cell_type": "code",
      "source": [
        "data = np.array([70, 80, 90, 100, 110])\n",
        "mean = np.mean(data)\n",
        "std_dev = np.std(data)\n",
        "\n",
        "z_scores = (data - mean) / std_dev\n",
        "\n",
        "print(\"Original data:\", data)\n",
        "print(\"Mean:\", mean)\n",
        "print(\"Standard Deviation:\", std_dev)\n",
        "print(\"Z-scores:\", z_scores)"
      ],
      "metadata": {
        "colab": {
          "base_uri": "https://localhost:8080/"
        },
        "id": "MVTiOyG_vkpm",
        "outputId": "2eb3d533-7f10-4213-d92f-db62483344c2"
      },
      "execution_count": 37,
      "outputs": [
        {
          "output_type": "stream",
          "name": "stdout",
          "text": [
            "Original data: [ 70  80  90 100 110]\n",
            "Mean: 90.0\n",
            "Standard Deviation: 14.142135623730951\n",
            "Z-scores: [-1.41421356 -0.70710678  0.          0.70710678  1.41421356]\n"
          ]
        }
      ]
    },
    {
      "cell_type": "markdown",
      "source": [
        "19. Compare two datasets using their standard deviations"
      ],
      "metadata": {
        "id": "YLczsXYLvubd"
      }
    },
    {
      "cell_type": "code",
      "source": [
        "\n",
        "np.random.seed(0)\n",
        "dataset1 = np.random.normal(0, 1, 100)\n",
        "dataset2 = np.random.normal(0, 2, 100)\n",
        "\n",
        "std_dev1 = np.std(dataset1)\n",
        "std_dev2 = np.std(dataset2)\n",
        "\n",
        "print(\"Standard Deviation of Dataset 1:\", std_dev1)\n",
        "print(\"Standard Deviation of Dataset 2:\", std_dev2)\n",
        "\n",
        "f_stat, p_val = stats.f_oneway(dataset1, dataset2)\n",
        "\n",
        "print(\"F-statistic:\", f_stat)\n",
        "print(\"p-value:\", p_val)\n",
        "\n",
        "if p_val < 0.05:\n",
        "    print(\"Reject the null hypothesis: The standard deviations are not equal.\")\n",
        "else:\n",
        "    print(\"Fail to reject the null hypothesis: The standard deviations are equal.\")"
      ],
      "metadata": {
        "colab": {
          "base_uri": "https://localhost:8080/"
        },
        "id": "mCYt-PQNvztu",
        "outputId": "ae3685c7-6617-4cc1-802c-c58aff590487"
      },
      "execution_count": 38,
      "outputs": [
        {
          "output_type": "stream",
          "name": "stdout",
          "text": [
            "Standard Deviation of Dataset 1: 1.0078822447165796\n",
            "Standard Deviation of Dataset 2: 2.069333994876845\n",
            "F-statistic: 0.2029600532557452\n",
            "p-value: 0.6528350262868573\n",
            "Fail to reject the null hypothesis: The standard deviations are equal.\n"
          ]
        }
      ]
    },
    {
      "cell_type": "markdown",
      "source": [
        "20. Write a Python program to visualize covariance using a heatmap"
      ],
      "metadata": {
        "id": "-gggGt6mwLPX"
      }
    },
    {
      "cell_type": "code",
      "source": [
        "import seaborn as sns\n",
        "np.random.seed(0)\n",
        "data = np.random.multivariate_normal(mean=[0, 0, 0], cov=[[1, 0.5, 0.2], [0.5, 1, 0.3], [0.2, 0.3, 1]], size=100)\n",
        "\n",
        "cov_matrix = np.cov(data, rowvar=False)\n",
        "\n",
        "plt.figure(figsize=(8, 6))\n",
        "sns.heatmap(cov_matrix, annot=True, cmap='coolwarm', square=True)\n",
        "plt.title('Covariance Matrix Heatmap')\n",
        "plt.show()"
      ],
      "metadata": {
        "colab": {
          "base_uri": "https://localhost:8080/",
          "height": 545
        },
        "id": "jA0Gr8EKwPTH",
        "outputId": "58248099-0d16-4669-8a55-5f4c618c196c"
      },
      "execution_count": 39,
      "outputs": [
        {
          "output_type": "display_data",
          "data": {
            "text/plain": [
              "<Figure size 800x600 with 2 Axes>"
            ],
            "image/png": "[encoded data removed]"
          },
          "metadata": {}
        }
      ]
    },
    {
      "cell_type": "markdown",
      "source": [
        "21. Use seaborn to create a correlation matrix for a dataset"
      ],
      "metadata": {
        "id": "1UKu1LBMwYvY"
      }
    },
    {
      "cell_type": "code",
      "source": [
        "np.random.seed(0)\n",
        "data = np.random.multivariate_normal(mean=[0, 0, 0], cov=[[1, 0.5, 0.2], [0.5, 1, 0.3], [0.2, 0.3, 1]], size=100)\n",
        "\n",
        "df = pd.DataFrame(data, columns=['Feature1', 'Feature2', 'Feature3'])\n",
        "\n",
        "corr_matrix = df.corr()\n",
        "\n",
        "plt.figure(figsize=(8, 6))\n",
        "sns.heatmap(corr_matrix, annot=True, cmap='coolwarm', square=True)\n",
        "plt.title('Correlation Matrix')\n",
        "plt.show()"
      ],
      "metadata": {
        "colab": {
          "base_uri": "https://localhost:8080/",
          "height": 545
        },
        "id": "yeFHpCNvwgYC",
        "outputId": "7364c52f-ec55-4e70-9b92-2f7cf3cabd13"
      },
      "execution_count": 40,
      "outputs": [
        {
          "output_type": "display_data",
          "data": {
            "text/plain": [
              "<Figure size 800x600 with 2 Axes>"
            ],
            "image/png": "[encoded data removed]"
          },
          "metadata": {}
        }
      ]
    },
    {
      "cell_type": "markdown",
      "source": [
        "22. Generate a dataset and implement both variance and standard deviation computations"
      ],
      "metadata": {
        "id": "52KBsvG2wnXX"
      }
    },
    {
      "cell_type": "code",
      "source": [
        "\n",
        "np.random.seed(0)\n",
        "data = np.random.normal(0, 1, 10)\n",
        "print(\"Dataset:\", data)\n",
        "\n",
        "mean = np.mean(data)\n",
        "print(\"Mean:\", mean)\n",
        "\n",
        "variance = np.sum((data - mean) ** 2) / len(data)\n",
        "print(\"Variance:\", variance)\n",
        "\n",
        "std_dev = np.sqrt(variance)\n",
        "print(\"Standard Deviation:\", std_dev)\n",
        "print(\"NumPy's Variance:\", np.var(data))\n",
        "print(\"NumPy's Standard Deviation:\", np.std(data))\n"
      ],
      "metadata": {
        "colab": {
          "base_uri": "https://localhost:8080/"
        },
        "id": "lcsvE8eNwqPH",
        "outputId": "5279faa6-2cdd-4ef4-cd5e-72c3366727e2"
      },
      "execution_count": 41,
      "outputs": [
        {
          "output_type": "stream",
          "name": "stdout",
          "text": [
            "Dataset: [ 1.76405235  0.40015721  0.97873798  2.2408932   1.86755799 -0.97727788\n",
            "  0.95008842 -0.15135721 -0.10321885  0.4105985 ]\n",
            "Mean: 0.7380231707288347\n",
            "Variance: 0.9352422005002838\n",
            "Standard Deviation: 0.9670792110785361\n",
            "NumPy's Variance: 0.9352422005002838\n",
            "NumPy's Standard Deviation: 0.9670792110785361\n"
          ]
        }
      ]
    },
    {
      "cell_type": "markdown",
      "source": [
        "23. Visualize skewness and kurtosis using Python libraries like matplotlib or seaborn"
      ],
      "metadata": {
        "id": "xE3tJvPWw19N"
      }
    },
    {
      "cell_type": "code",
      "source": [
        "from scipy.stats import skew, kurtosis,norm\n",
        "\n",
        "np.random.seed(0)\n",
        "data = np.random.normal(size=1000)\n",
        "\n",
        "skewness = skew(data)\n",
        "kurt = kurtosis(data)\n",
        "\n",
        "print(\"Skewness:\", skewness)\n",
        "print(\"Kurtosis:\", kurt)\n",
        "\n",
        "plt.figure(figsize=(8, 6))\n",
        "sns.histplot(data, bins=30, kde=True)\n",
        "plt.title('Data Distribution')\n",
        "plt.show()\n",
        "\n",
        "plt.figure(figsize=(8, 6))\n",
        "sns.distplot(data, fit= norm)\n",
        "plt.title('Skewness Visualization')\n",
        "plt.show()\n",
        "\n",
        "plt.figure(figsize=(8, 6))\n",
        "sns.kdeplot(data, shade=True)\n",
        "plt.title('Kurtosis Visualization')\n",
        "plt.show()"
      ],
      "metadata": {
        "colab": {
          "base_uri": "https://localhost:8080/",
          "height": 1000
        },
        "id": "Au0R9tgzw5gl",
        "outputId": "4c14b748-9235-41bf-8a84-3b2e2f03be30"
      },
      "execution_count": 44,
      "outputs": [
        {
          "output_type": "stream",
          "name": "stdout",
          "text": [
            "Skewness: 0.03385895323565712\n",
            "Kurtosis: -0.0467663244783294\n"
          ]
        },
        {
          "output_type": "display_data",
          "data": {
            "text/plain": [
              "<Figure size 800x600 with 1 Axes>"
            ],
            "image/png": "[encoded data removed]"
          },
          "metadata": {}
        },
        {
          "output_type": "stream",
          "name": "stderr",
          "text": [
            "<ipython-input-44-ff7327cf8d60>:19: UserWarning: \n",
            "\n",
            "`distplot` is a deprecated function and will be removed in seaborn v0.14.0.\n",
            "\n",
            "Please adapt your code to use either `displot` (a figure-level function with\n",
            "similar flexibility) or `histplot` (an axes-level function for histograms).\n",
            "\n",
            "For a guide to updating your code to use the new functions, please see\n",
            "https://gist.github.com/mwaskom/de44147ed2974457ad6372750bbe5751\n",
            "\n",
            "  sns.distplot(data, fit= norm)\n"
          ]
        },
        {
          "output_type": "display_data",
          "data": {
            "text/plain": [
              "<Figure size 800x600 with 1 Axes>"
            ],
            "image/png": "[encoded data removed]"
          },
          "metadata": {}
        },
        {
          "output_type": "stream",
          "name": "stderr",
          "text": [
            "<ipython-input-44-ff7327cf8d60>:24: FutureWarning: \n",
            "\n",
            "`shade` is now deprecated in favor of `fill`; setting `fill=True`.\n",
            "This will become an error in seaborn v0.14.0; please update your code.\n",
            "\n",
            "  sns.kdeplot(data, shade=True)\n"
          ]
        },
        {
          "output_type": "display_data",
          "data": {
            "text/plain": [
              "<Figure size 800x600 with 1 Axes>"
            ],
            "image/png": "[encoded data removed]"
          },
          "metadata": {}
        }
      ]
    },
    {
      "cell_type": "markdown",
      "source": [
        "24. Implement the Pearson and Spearman correlation coefficients for a dataset."
      ],
      "metadata": {
        "id": "jXUQ0-Yex6Ih"
      }
    },
    {
      "cell_type": "code",
      "source": [
        "from scipy.stats import pearsonr, spearmanr\n",
        "\n",
        "x = np.array([1, 2, 3, 4, 5])\n",
        "y = np.array([5, 4, 3, 2, 1])\n",
        "\n",
        "pearson_corr, _ = pearsonr(x, y)\n",
        "print(\"Pearson Correlation Coefficient:\", pearson_corr)\n",
        "\n",
        "spearman_corr, _ = spearmanr(x, y)\n",
        "print(\"Spearman Correlation Coefficient:\", spearman_corr)"
      ],
      "metadata": {
        "colab": {
          "base_uri": "https://localhost:8080/"
        },
        "id": "5BkkvdaRx7fh",
        "outputId": "0ef34e55-a734-4e05-fa78-ffdc0d38d8e5"
      },
      "execution_count": 45,
      "outputs": [
        {
          "output_type": "stream",
          "name": "stdout",
          "text": [
            "Pearson Correlation Coefficient: -1.0\n",
            "Spearman Correlation Coefficient: -0.9999999999999999\n"
          ]
        }
      ]
    }
  ]
}